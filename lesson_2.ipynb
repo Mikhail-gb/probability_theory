{
 "cells": [
  {
   "cell_type": "code",
   "execution_count": 19,
   "id": "c6c3876b",
   "metadata": {},
   "outputs": [],
   "source": [
    "import numpy as np"
   ]
  },
  {
   "cell_type": "code",
   "execution_count": 20,
   "id": "c2df31a3",
   "metadata": {},
   "outputs": [],
   "source": [
    "def combinations(n: int, m: int) -> int:\n",
    "    \"\"\"Количество сочетаний.\"\"\"\n",
    "    result = np.math.factorial(n) // (np.math.factorial(m) * np.math.factorial(n - m))\n",
    "    \n",
    "    return result"
   ]
  },
  {
   "cell_type": "code",
   "execution_count": 21,
   "id": "1892ceb1",
   "metadata": {},
   "outputs": [],
   "source": [
    "def poisson_proba(k: int, lambda_: float) -> float:\n",
    "    \"\"\"Формула Пуассона.\"\"\"\n",
    "    result = (lambda_ ** k) * (np.exp(-lambda_)) / np.math.factorial(k)\n",
    "    \n",
    "    return result"
   ]
  },
  {
   "cell_type": "markdown",
   "id": "e6b9651a",
   "metadata": {},
   "source": [
    "task 1, 2"
   ]
  },
  {
   "cell_type": "code",
   "execution_count": 22,
   "id": "7fe9b747",
   "metadata": {},
   "outputs": [
    {
     "data": {
      "text/plain": "array([0, 1, 2, 3, 4, 5])"
     },
     "execution_count": 22,
     "metadata": {},
     "output_type": "execute_result"
    }
   ],
   "source": [
    "# Создаем массив с вариантами количеств правильных ответов\n",
    "x_values = np.array(range(6))\n",
    "x_values"
   ]
  },
  {
   "cell_type": "code",
   "execution_count": 23,
   "id": "26c09242",
   "metadata": {},
   "outputs": [
    {
     "data": {
      "text/plain": "array([1.93691950e-01, 4.40208978e-01, 2.93472652e-01, 6.77244582e-02,\n       4.83746130e-03, 6.44994840e-05])"
     },
     "execution_count": 23,
     "metadata": {},
     "output_type": "execute_result"
    }
   ],
   "source": [
    "# Расчитываем вероятность для каждого варианта\n",
    "x_probabilities = np.array([combinations(5, i) * combinations(15, 5 - i) / combinations(20, 5) for i in x_values])\n",
    "x_probabilities"
   ]
  },
  {
   "cell_type": "code",
   "execution_count": 24,
   "id": "b0322436",
   "metadata": {},
   "outputs": [
    {
     "data": {
      "text/plain": "1.0"
     },
     "execution_count": 24,
     "metadata": {},
     "output_type": "execute_result"
    }
   ],
   "source": [
    "# Проверяем правильность расчета вероятностей\n",
    "p = x_probabilities.sum()\n",
    "p"
   ]
  },
  {
   "cell_type": "code",
   "execution_count": 25,
   "id": "af7fc1e8",
   "metadata": {},
   "outputs": [
    {
     "data": {
      "text/plain": "1.25"
     },
     "execution_count": 25,
     "metadata": {},
     "output_type": "execute_result"
    }
   ],
   "source": [
    "# Расчитываем математическое ожидание\n",
    "m = (x_values * x_probabilities).sum()\n",
    "m"
   ]
  },
  {
   "cell_type": "code",
   "execution_count": 26,
   "id": "c0fe7f46",
   "metadata": {},
   "outputs": [
    {
     "data": {
      "text/plain": "0.7401315789473685"
     },
     "execution_count": 26,
     "metadata": {},
     "output_type": "execute_result"
    }
   ],
   "source": [
    "# Расчитываем дисперсию\n",
    "y_values = x_values - m\n",
    "z_values = y_values ** 2\n",
    "d = (z_values * x_probabilities).sum()\n",
    "d"
   ]
  },
  {
   "cell_type": "markdown",
   "id": "c40f76a2",
   "metadata": {},
   "source": [
    "task 3"
   ]
  },
  {
   "cell_type": "code",
   "execution_count": 27,
   "id": "54992d0a",
   "metadata": {},
   "outputs": [
    {
     "data": {
      "text/plain": "15"
     },
     "execution_count": 27,
     "metadata": {},
     "output_type": "execute_result"
    }
   ],
   "source": [
    "# Рассчитываем количество спама которые получит пользователь с вероятностью 95%\n",
    "lambda_ = 10 # математическое ожидание и дисперсия по Пуассону\n",
    "n = 0 # количество писем\n",
    "while True:\n",
    "    p = sum(poisson_proba(i, lambda_) for i in range(n + 1))\n",
    "    if p >= 0.95:\n",
    "        break\n",
    "    n += 1\n",
    "n"
   ]
  },
  {
   "cell_type": "markdown",
   "id": "ea9a5514",
   "metadata": {},
   "source": [
    "task 4"
   ]
  },
  {
   "cell_type": "code",
   "execution_count": 32,
   "id": "4dbbe9d9",
   "metadata": {},
   "outputs": [
    {
     "data": {
      "text/plain": "231"
     },
     "execution_count": 32,
     "metadata": {},
     "output_type": "execute_result"
    }
   ],
   "source": [
    "p_one = 0.01\n",
    "p = 0\n",
    "k = 6\n",
    "n = 6\n",
    "while p <= 0.9:\n",
    "    p += combinations(n, 6) * (p_one ** k) * ((1 - p_one) ** (n-k))\n",
    "    n += 1\n",
    "n"
   ]
  }
 ],
 "metadata": {
  "kernelspec": {
   "display_name": "Python 3 (ipykernel)",
   "language": "python",
   "name": "python3"
  },
  "language_info": {
   "codemirror_mode": {
    "name": "ipython",
    "version": 3
   },
   "file_extension": ".py",
   "mimetype": "text/x-python",
   "name": "python",
   "nbconvert_exporter": "python",
   "pygments_lexer": "ipython3",
   "version": "3.9.7"
  }
 },
 "nbformat": 4,
 "nbformat_minor": 5
}