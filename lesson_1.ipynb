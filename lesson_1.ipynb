{
 "cells": [
  {
   "cell_type": "code",
   "execution_count": 8,
   "id": "9f2c8feb",
   "metadata": {},
   "outputs": [],
   "source": [
    "import numpy as np"
   ]
  },
  {
   "cell_type": "markdown",
   "id": "e508964c",
   "metadata": {},
   "source": [
    "task 1"
   ]
  },
  {
   "cell_type": "code",
   "execution_count": 9,
   "id": "a0fa9298",
   "metadata": {},
   "outputs": [],
   "source": [
    "def combinations(n: int, m: int) -> int:\n",
    "    \"\"\"Количество сочетаний.\"\"\"\n",
    "    result = np.math.factorial(n) // (np.math.factorial(m) * np.math.factorial(n - m))\n",
    "    \n",
    "    return result"
   ]
  },
  {
   "cell_type": "code",
   "execution_count": 10,
   "id": "664706ee",
   "metadata": {},
   "outputs": [
    {
     "data": {
      "text/plain": [
       "76145"
      ]
     },
     "execution_count": 10,
     "metadata": {},
     "output_type": "execute_result"
    }
   ],
   "source": [
    "# Количество сочетаний вытащить 1 туз из 4 тузов\n",
    "sum(combinations(4, i) * combinations(48, 4 - i) for i in range(1, 5))"
   ]
  },
  {
   "cell_type": "markdown",
   "id": "fb50f8f1",
   "metadata": {},
   "source": [
    "task 2, 3"
   ]
  },
  {
   "cell_type": "code",
   "execution_count": 12,
   "id": "edfdec14",
   "metadata": {},
   "outputs": [
    {
     "data": {
      "text/plain": [
       "0.5727644652250146"
      ]
     },
     "execution_count": 12,
     "metadata": {},
     "output_type": "execute_result"
    }
   ],
   "source": [
    "# Вероятность вытащить 3 знакомых вопроса из 3\n",
    "(combinations(50, 3) * combinations(10, 0)) / combinations(60, 3)"
   ]
  },
  {
   "cell_type": "code",
   "execution_count": 13,
   "id": "2240215c",
   "metadata": {},
   "outputs": [
    {
     "data": {
      "text/plain": [
       "0.35797779076563413"
      ]
     },
     "execution_count": 13,
     "metadata": {},
     "output_type": "execute_result"
    }
   ],
   "source": [
    "# Вероятность вытащить 2 знакомых вопроса из 3\n",
    "(combinations(50, 2) * combinations(10, 1)) / combinations(60, 3)"
   ]
  },
  {
   "cell_type": "markdown",
   "id": "8e879066",
   "metadata": {},
   "source": [
    "task 4"
   ]
  },
  {
   "cell_type": "code",
   "execution_count": 14,
   "id": "b0edf925",
   "metadata": {},
   "outputs": [
    {
     "data": {
      "text/plain": [
       "0.01098"
      ]
     },
     "execution_count": 14,
     "metadata": {},
     "output_type": "execute_result"
    }
   ],
   "source": [
    "p_b = 0.001 * 0.99 + 0.999 * 0.01\n",
    "p_b"
   ]
  },
  {
   "cell_type": "code",
   "execution_count": 15,
   "id": "2aeb8c9d",
   "metadata": {},
   "outputs": [
    {
     "data": {
      "text/plain": [
       "0.09016393442622951"
      ]
     },
     "execution_count": 15,
     "metadata": {},
     "output_type": "execute_result"
    }
   ],
   "source": [
    "p_a_b = 0.99 * 0.001 / 0.01098\n",
    "p_a_b"
   ]
  }
 ],
 "metadata": {
  "kernelspec": {
   "display_name": "Python 3 (ipykernel)",
   "language": "python",
   "name": "python3"
  },
  "language_info": {
   "codemirror_mode": {
    "name": "ipython",
    "version": 3
   },
   "file_extension": ".py",
   "mimetype": "text/x-python",
   "name": "python",
   "nbconvert_exporter": "python",
   "pygments_lexer": "ipython3",
   "version": "3.9.7"
  }
 },
 "nbformat": 4,
 "nbformat_minor": 5
}