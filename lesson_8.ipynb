{
 "cells": [
  {
   "cell_type": "markdown",
   "id": "fd627331",
   "metadata": {},
   "source": [
    "task 1"
   ]
  },
  {
   "cell_type": "code",
   "execution_count": 61,
   "id": "cb5acf09",
   "metadata": {},
   "outputs": [],
   "source": [
    "import pandas as pd\n",
    "import numpy as np\n",
    "from scipy import stats"
   ]
  },
  {
   "cell_type": "code",
   "execution_count": 62,
   "id": "31f304ef",
   "metadata": {},
   "outputs": [],
   "source": [
    "def anova(*ys: np.ndarray) -> float:\n",
    "    \"\"\"\n",
    "    Функция возвращает значение F-статистики\n",
    "    для дисперсионного анализа.\n",
    "    \"\"\"\n",
    "    \n",
    "    y = np.concatenate(ys)\n",
    "\n",
    "    ss_b = sum((yi.mean() - y.mean()) ** 2 * yi.size for yi in ys)\n",
    "    ss_w = sum(((yi - yi.mean()) ** 2).sum() for yi in ys)\n",
    "    \n",
    "    sigma_b = ss_b / (len(ys) - 1)\n",
    "    sigma_w = ss_w / (y.size - len(ys))\n",
    "    \n",
    "    return sigma_b / sigma_w"
   ]
  },
  {
   "cell_type": "code",
   "execution_count": 63,
   "id": "16ff1224",
   "metadata": {},
   "outputs": [],
   "source": [
    "df = pd.read_csv('hockey_players.csv')"
   ]
  },
  {
   "cell_type": "code",
   "execution_count": 64,
   "id": "7e36a87a",
   "metadata": {},
   "outputs": [],
   "source": [
    "df.drop_duplicates(['name'], inplace=True)"
   ]
  },
  {
   "cell_type": "code",
   "execution_count": 65,
   "id": "76468b31",
   "metadata": {},
   "outputs": [],
   "source": [
    "countries = ['FIN', 'NOR', 'DEN']"
   ]
  },
  {
   "cell_type": "code",
   "execution_count": 66,
   "id": "741a6c41",
   "metadata": {},
   "outputs": [
    {
     "data": {
      "text/plain": [
       "3.5504111023204916"
      ]
     },
     "execution_count": 66,
     "metadata": {},
     "output_type": "execute_result"
    }
   ],
   "source": [
    "ys = [df.loc[df['country'] == country, 'height'] for country in countries]\n",
    "\n",
    "F = anova(*ys)\n",
    "F\n"
   ]
  },
  {
   "cell_type": "code",
   "execution_count": 67,
   "id": "e1f3a991",
   "metadata": {},
   "outputs": [
    {
     "data": {
      "text/plain": [
       "(2, 427)"
      ]
     },
     "execution_count": 67,
     "metadata": {},
     "output_type": "execute_result"
    }
   ],
   "source": [
    "k = len(countries)\n",
    "n = sum(y.size for y in ys)\n",
    "\n",
    "k1 = k - 1\n",
    "k2 = n - k\n",
    "\n",
    "k1, k2"
   ]
  },
  {
   "cell_type": "code",
   "execution_count": 68,
   "id": "43a908d9",
   "metadata": {},
   "outputs": [
    {
     "data": {
      "text/plain": [
       "3.0168482792459144"
      ]
     },
     "execution_count": 68,
     "metadata": {},
     "output_type": "execute_result"
    }
   ],
   "source": [
    "alpha = 0.05\n",
    "\n",
    "t = stats.f.ppf(1 - alpha, k1, k2)\n",
    "t"
   ]
  },
  {
   "cell_type": "code",
   "execution_count": 69,
   "id": "6dab3888",
   "metadata": {},
   "outputs": [
    {
     "data": {
      "text/plain": [
       "1"
      ]
     },
     "execution_count": 69,
     "metadata": {},
     "output_type": "execute_result"
    }
   ],
   "source": [
    "1 if F > t else 0"
   ]
  }
 ],
 "metadata": {
  "kernelspec": {
   "display_name": "Python 3 (ipykernel)",
   "language": "python",
   "name": "python3"
  },
  "language_info": {
   "codemirror_mode": {
    "name": "ipython",
    "version": 3
   },
   "file_extension": ".py",
   "mimetype": "text/x-python",
   "name": "python",
   "nbconvert_exporter": "python",
   "pygments_lexer": "ipython3",
   "version": "3.9.7"
  }
 },
 "nbformat": 4,
 "nbformat_minor": 5
}
