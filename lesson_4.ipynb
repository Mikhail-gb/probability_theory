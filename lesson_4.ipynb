{
 "cells": [
  {
   "cell_type": "code",
   "execution_count": 15,
   "id": "66be2d5e",
   "metadata": {},
   "outputs": [],
   "source": [
    "from scipy import stats as sps"
   ]
  },
  {
   "cell_type": "markdown",
   "id": "b861599f",
   "metadata": {},
   "source": [
    "task 1"
   ]
  },
  {
   "cell_type": "code",
   "execution_count": 16,
   "id": "9405f98e",
   "metadata": {},
   "outputs": [
    {
     "name": "stdout",
     "output_type": "stream",
     "text": [
      "Математическое ожидание 500.0\n",
      "Дисперсия 30000.0\n"
     ]
    }
   ],
   "source": [
    "a = 200\n",
    "b = 800\n",
    "m = (a + b) / 2\n",
    "d = ((b - a) ** 2) / 12\n",
    "print('Математическое ожидание', m)\n",
    "print('Дисперсия', d)"
   ]
  },
  {
   "cell_type": "markdown",
   "id": "ec6419a0",
   "metadata": {},
   "source": [
    "task 2"
   ]
  },
  {
   "cell_type": "code",
   "execution_count": 17,
   "id": "073c80da",
   "metadata": {},
   "outputs": [
    {
     "name": "stdout",
     "output_type": "stream",
     "text": [
      "b 2.05\n",
      "Математическое ожидание 1.275\n"
     ]
    }
   ],
   "source": [
    "a = 0.5\n",
    "b = None\n",
    "d = 0.2\n",
    "# Из формулы дисперсии выводим формулу для b\n",
    "b = round(((12 * d) ** 0.5) + a, 2)\n",
    "m = (a + b) / 2\n",
    "print('b', b)\n",
    "print('Математическое ожидание', m)"
   ]
  },
  {
   "cell_type": "markdown",
   "id": "595be144",
   "metadata": {},
   "source": [
    "task 3"
   ]
  },
  {
   "cell_type": "code",
   "execution_count": 18,
   "id": "f0a1a243",
   "metadata": {},
   "outputs": [
    {
     "name": "stdout",
     "output_type": "stream",
     "text": [
      "Математическое ожидание 2\n",
      "Среднее квадратическое отклонение 4\n",
      "Дисперсия 16\n"
     ]
    }
   ],
   "source": [
    "# Исходя из формулы функции плотности распределения\n",
    "# f(x) = (1 / (4 * sqrt(2*pi))) * (exp(-(x+2)**2) / 32)\n",
    "m = 2\n",
    "s = 4\n",
    "d = s ** 2\n",
    "print('Математическое ожидание', m)\n",
    "print('Среднее квадратическое отклонение', s)\n",
    "print('Дисперсия', d)"
   ]
  },
  {
   "cell_type": "markdown",
   "id": "2ada16c5",
   "metadata": {},
   "source": [
    "task 4"
   ]
  },
  {
   "cell_type": "code",
   "execution_count": 19,
   "id": "be5984dc",
   "metadata": {},
   "outputs": [],
   "source": [
    "def z(mu, d, n):\n",
    "    return (n - mu) / d"
   ]
  },
  {
   "cell_type": "code",
   "execution_count": 26,
   "id": "0b29fe98",
   "metadata": {},
   "outputs": [
    {
     "data": {
      "text/plain": [
       "-0.9120879120879121"
      ]
     },
     "execution_count": 26,
     "metadata": {},
     "output_type": "execute_result"
    }
   ],
   "source": [
    "p1 = z(174, 182, 8)\n",
    "p1"
   ]
  },
  {
   "cell_type": "code",
   "execution_count": 27,
   "id": "b5d333cb",
   "metadata": {},
   "outputs": [
    {
     "data": {
      "text/plain": [
       "-0.8736842105263158"
      ]
     },
     "execution_count": 27,
     "metadata": {},
     "output_type": "execute_result"
    }
   ],
   "source": [
    "p2 = z(174, 190, 8)\n",
    "p2"
   ]
  },
  {
   "cell_type": "code",
   "execution_count": 39,
   "id": "34e2deeb",
   "metadata": {},
   "outputs": [
    {
     "data": {
      "text/plain": [
       "0.4502617751698871"
      ]
     },
     "execution_count": 39,
     "metadata": {},
     "output_type": "execute_result"
    }
   ],
   "source": [
    "a = 1 - sps.norm(174, 64).cdf(182)\n",
    "a"
   ]
  },
  {
   "cell_type": "code",
   "execution_count": 40,
   "id": "4bd436bf",
   "metadata": {},
   "outputs": [
    {
     "data": {
      "text/plain": [
       "0.4012936743170763"
      ]
     },
     "execution_count": 40,
     "metadata": {},
     "output_type": "execute_result"
    }
   ],
   "source": [
    "b = 1 - sps.norm(174, 64).cdf(190)\n",
    "b"
   ]
  },
  {
   "cell_type": "code",
   "execution_count": 41,
   "id": "bba87b9a",
   "metadata": {},
   "outputs": [
    {
     "data": {
      "text/plain": [
       "0.14844455051303662"
      ]
     },
     "execution_count": 41,
     "metadata": {},
     "output_type": "execute_result"
    }
   ],
   "source": [
    "v = sps.norm(174, 64).cdf(190) - sps.norm(174, 64).cdf(166)\n",
    "v"
   ]
  },
  {
   "cell_type": "code",
   "execution_count": 42,
   "id": "ab500d9f",
   "metadata": {},
   "outputs": [
    {
     "data": {
      "text/plain": [
       "0.09947644966022584"
      ]
     },
     "execution_count": 42,
     "metadata": {},
     "output_type": "execute_result"
    }
   ],
   "source": [
    "g = sps.norm(174, 64).cdf(182) - sps.norm(174, 64).cdf(166)\n",
    "g"
   ]
  },
  {
   "cell_type": "code",
   "execution_count": 43,
   "id": "70531500",
   "metadata": {},
   "outputs": [
    {
     "data": {
      "text/plain": [
       "0.1974126513658474"
      ]
     },
     "execution_count": 43,
     "metadata": {},
     "output_type": "execute_result"
    }
   ],
   "source": [
    "d = sps.norm(174, 64).cdf(190) - sps.norm(174, 64).cdf(158)\n",
    "d"
   ]
  },
  {
   "cell_type": "code",
   "execution_count": 45,
   "id": "7e3e27e3",
   "metadata": {},
   "outputs": [
    {
     "data": {
      "text/plain": [
       "0.8025873486341526"
      ]
     },
     "execution_count": 45,
     "metadata": {},
     "output_type": "execute_result"
    }
   ],
   "source": [
    "e = (1 - sps.norm(174, 64).cdf(190)) + sps.norm(174, 64).cdf(158)\n",
    "e"
   ]
  },
  {
   "cell_type": "code",
   "execution_count": 46,
   "id": "d870e7e3",
   "metadata": {},
   "outputs": [
    {
     "data": {
      "text/plain": [
       "0.7551239076443526"
      ]
     },
     "execution_count": 46,
     "metadata": {},
     "output_type": "execute_result"
    }
   ],
   "source": [
    "e2 = (1 - sps.norm(174, 64).cdf(198)) + sps.norm(174, 64).cdf(158)\n",
    "e2"
   ]
  },
  {
   "cell_type": "code",
   "execution_count": 47,
   "id": "ee134573",
   "metadata": {},
   "outputs": [
    {
     "data": {
      "text/plain": [
       "0.4502617751698871"
      ]
     },
     "execution_count": 47,
     "metadata": {},
     "output_type": "execute_result"
    }
   ],
   "source": [
    "j = sps.norm(174, 64).cdf(166)\n",
    "j"
   ]
  },
  {
   "cell_type": "markdown",
   "id": "44e0b556",
   "metadata": {},
   "source": [
    "task 5"
   ]
  },
  {
   "cell_type": "code",
   "execution_count": 49,
   "id": "f8668586",
   "metadata": {},
   "outputs": [
    {
     "data": {
      "text/plain": [
       "2.4"
      ]
     },
     "execution_count": 49,
     "metadata": {},
     "output_type": "execute_result"
    }
   ],
   "source": [
    "m = 178\n",
    "d = 25\n",
    "n = 190\n",
    "k = (n - m) / d ** 0.5\n",
    "k"
   ]
  }
 ],
 "metadata": {
  "kernelspec": {
   "display_name": "Python 3 (ipykernel)",
   "language": "python",
   "name": "python3"
  },
  "language_info": {
   "codemirror_mode": {
    "name": "ipython",
    "version": 3
   },
   "file_extension": ".py",
   "mimetype": "text/x-python",
   "name": "python",
   "nbconvert_exporter": "python",
   "pygments_lexer": "ipython3",
   "version": "3.9.7"
  }
 },
 "nbformat": 4,
 "nbformat_minor": 5
}
