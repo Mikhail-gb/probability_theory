{
 "cells": [
  {
   "cell_type": "code",
   "execution_count": 173,
   "id": "c2432599",
   "metadata": {},
   "outputs": [],
   "source": [
    "import numpy as np\n",
    "import pandas as pd\n",
    "import itertools\n",
    "from scipy import stats"
   ]
  },
  {
   "cell_type": "markdown",
   "id": "d6f5eb71",
   "metadata": {},
   "source": [
    "task 1"
   ]
  },
  {
   "cell_type": "code",
   "execution_count": 174,
   "id": "8af24306",
   "metadata": {},
   "outputs": [],
   "source": [
    "x = pd.DataFrame(\n",
    "    [[ 1.22401313,  2.30868478,  3.03636353,  2.69287214],\n",
    "     [-0.18757272,  1.30337355,  5.12093014,  3.46363202],\n",
    "     [-0.81094525,  1.82463398,  5.79686488,  1.86159445],\n",
    "     [ 0.75129018,  2.67392052,  3.65529809,  1.66746094],\n",
    "     [ 0.00972362,  1.97367255,  2.50594319,  1.69755173],\n",
    "     [-0.62972637,  0.77750764,  2.84124027,  4.54410559],\n",
    "     [ 2.29536229,  1.81206697,  1.95026215,  1.51874636],\n",
    "     [ 0.0920418 ,  2.26971361,  7.47708735,  2.61081203],\n",
    "     [ 2.39252799,  3.17563985,  3.61420599,  5.10773362],\n",
    "     [ 0.54983815,  2.87988651,  1.65752765,  1.59635987]])"
   ]
  },
  {
   "cell_type": "code",
   "execution_count": 175,
   "id": "bc894de2",
   "metadata": {},
   "outputs": [],
   "source": [
    "y = np.array([ 9.26193358,  9.700363  ,  8.67214805,  8.74796974,  6.18689108,\n",
    "      7.53312713,  7.57643777, 12.44965478, 14.29010746,  6.68361218])"
   ]
  },
  {
   "cell_type": "code",
   "execution_count": 176,
   "id": "0008b55c",
   "metadata": {},
   "outputs": [],
   "source": [
    "val = [0, 1, 2, 3]\n",
    "com_set = itertools.combinations(val, 2)\n",
    "def sum_of_squares(samples: np.ndarray) -> float:\n",
    "    \"\"\"Сумма квадратов отклонений.\n",
    "    \"\"\"\n",
    "    \n",
    "    return ((samples - samples.mean()) ** 2).sum()"
   ]
  },
  {
   "cell_type": "code",
   "execution_count": 177,
   "id": "095f2600",
   "metadata": {},
   "outputs": [
    {
     "data": {
      "text/plain": [
       "(0.76342462, (0, 2))"
      ]
     },
     "execution_count": 177,
     "metadata": {},
     "output_type": "execute_result"
    }
   ],
   "source": [
    "r = 0\n",
    "i = 0\n",
    "x2 = 0\n",
    "for v in com_set:\n",
    "    x_ = x[list(v)].values\n",
    "    ones = np.ones((x_.shape[0], 1))\n",
    "    x_ = np.hstack((ones, x_))\n",
    "    XTX = x_.T.dot(x_)\n",
    "    XTX = x_.T.dot(x_)\n",
    "    XTX_inv = np.linalg.inv(XTX)\n",
    "    b = XTX_inv.dot(x_.T).dot(y)\n",
    "    z = x_.dot(b)\n",
    "    e = y - z\n",
    "    r_ = round(1 - sum_of_squares(e) / sum_of_squares(y), 8)\n",
    "    if r_ > r:\n",
    "        r = r_\n",
    "        i = v\n",
    "        x2 = x_\n",
    "r, i"
   ]
  },
  {
   "cell_type": "markdown",
   "id": "3aefad49",
   "metadata": {},
   "source": [
    "task 2"
   ]
  },
  {
   "cell_type": "code",
   "execution_count": 178,
   "id": "eea0d119",
   "metadata": {},
   "outputs": [
    {
     "data": {
      "text/plain": [
       "1"
      ]
     },
     "execution_count": 178,
     "metadata": {},
     "output_type": "execute_result"
    }
   ],
   "source": [
    "n = x2.shape[0]\n",
    "m = x2.shape[1] - 1\n",
    "k1 = m\n",
    "k2 = n - m - 1\n",
    "alpha = 0.05\n",
    "t = stats.f.ppf(1 - alpha, k1, k2)\n",
    "f = (R / k1) / ((1 - R) / k2)\n",
    "1 if f > t else 0"
   ]
  },
  {
   "cell_type": "markdown",
   "id": "2039f9a2",
   "metadata": {},
   "source": [
    "task 3"
   ]
  },
  {
   "cell_type": "code",
   "execution_count": 179,
   "id": "002a0365",
   "metadata": {},
   "outputs": [
    {
     "data": {
      "text/plain": [
       "0"
      ]
     },
     "execution_count": 179,
     "metadata": {},
     "output_type": "execute_result"
    }
   ],
   "source": [
    "a = np.concatenate((np.zeros(2509 - 77), np.ones(77)), axis=0)\n",
    "np.random.shuffle(a)\n",
    "b = np.concatenate((np.zeros(1465 - 60), np.ones(60)), axis=0)\n",
    "np.random.shuffle(b)\n",
    "n1 = a.size\n",
    "n2 = b.size\n",
    "s1 = a.std(ddof=1)\n",
    "s2 = b.std(ddof=1)\n",
    "s_delta = np.sqrt(s1 ** 2 / n1 + s2 ** 2 / n2)\n",
    "t = (a.mean() - b.mean()) / s_delta\n",
    "df = (s1 ** 2 / n1 + s2 ** 2 / n2) ** 2 / \\\n",
    "    ((s1 ** 2 / n1) ** 2 / (n1 - 1) + (s2 ** 2 / n2) ** 2 / (n2 - 1))\n",
    "alpha = 0.05\n",
    "t1 = stats.t.ppf(alpha / 2, df=df)\n",
    "t2 = stats.t.ppf(1 - alpha / 2, df=df)\n",
    "0 if t1 < t < t2 else 1"
   ]
  }
 ],
 "metadata": {
  "kernelspec": {
   "display_name": "Python 3 (ipykernel)",
   "language": "python",
   "name": "python3"
  },
  "language_info": {
   "codemirror_mode": {
    "name": "ipython",
    "version": 3
   },
   "file_extension": ".py",
   "mimetype": "text/x-python",
   "name": "python",
   "nbconvert_exporter": "python",
   "pygments_lexer": "ipython3",
   "version": "3.9.7"
  }
 },
 "nbformat": 4,
 "nbformat_minor": 5
}
