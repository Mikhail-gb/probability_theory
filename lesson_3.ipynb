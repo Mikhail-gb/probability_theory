{
 "cells": [
  {
   "cell_type": "markdown",
   "id": "97abdc7b",
   "metadata": {},
   "source": [
    "task 1"
   ]
  },
  {
   "cell_type": "code",
   "execution_count": 25,
   "id": "5cf3b7e1",
   "metadata": {},
   "outputs": [],
   "source": [
    "x = [100, 80, 75, 77, 89, 33, 45, 25, 65, 17, 30, 230, 24, 57, 55, 70, 75, 65, 84, 90, 150]"
   ]
  },
  {
   "cell_type": "code",
   "execution_count": 26,
   "id": "4f4d499a",
   "metadata": {},
   "outputs": [],
   "source": [
    "def mean(l: list) -> float:\n",
    "    \n",
    "    return sum(l) / len(l)\n",
    "\n",
    "def variance(l: list, unbiased: bool = True) -> float:\n",
    "    \n",
    "    mean_ = mean(l)\n",
    "    n = len(l)\n",
    "    l = [(x - mean_) ** 2 for x in l]\n",
    "    \n",
    "    return sum(l) / (n - int(unbiased))\n",
    "\n",
    "def std(l: list, unbiased: bool = True) -> float:\n",
    "    \n",
    "    return variance(l, unbiased) ** 0.5"
   ]
  },
  {
   "cell_type": "code",
   "execution_count": 27,
   "id": "6b094e85",
   "metadata": {},
   "outputs": [
    {
     "data": {
      "text/plain": [
       "47.34795214"
      ]
     },
     "execution_count": 27,
     "metadata": {},
     "output_type": "execute_result"
    }
   ],
   "source": [
    "round(std(x), 8)"
   ]
  },
  {
   "cell_type": "markdown",
   "id": "54317d28",
   "metadata": {},
   "source": [
    "task 2"
   ]
  },
  {
   "cell_type": "code",
   "execution_count": 28,
   "id": "aaae2fda",
   "metadata": {},
   "outputs": [],
   "source": [
    "def quantile(l: list, order: float) -> float:\n",
    "\n",
    "    l = sorted(l)\n",
    "    n = len(l)\n",
    "    \n",
    "    n_left_elements = int(n * order)\n",
    "    n_right_elements = int(n * (1 - order))\n",
    "    \n",
    "    if n_left_elements + n_right_elements == n:\n",
    "        return (l[n_left_elements - 1] + l[n_left_elements]) / 2\n",
    "    \n",
    "    else:\n",
    "        assert n_left_elements + n_right_elements == n - 1\n",
    "        \n",
    "        return l[n_left_elements]"
   ]
  },
  {
   "cell_type": "code",
   "execution_count": 29,
   "id": "b7be18f7",
   "metadata": {},
   "outputs": [
    {
     "data": {
      "text/plain": [
       "[230, 150]"
      ]
     },
     "execution_count": 29,
     "metadata": {},
     "output_type": "execute_result"
    }
   ],
   "source": [
    "q1 = quantile(x, 0.25)\n",
    "q3 = quantile(x, 0.75)\n",
    "iqd = q3 - q1\n",
    "boxplot_range = (q1 - 1.5 * iqd, q3 + 1.5 * iqd)\n",
    "outliers = [val for val in x if not (boxplot_range[0] <= val <= boxplot_range[1])]\n",
    "outliers"
   ]
  },
  {
   "cell_type": "markdown",
   "id": "54bec4f8",
   "metadata": {},
   "source": [
    "task 3"
   ]
  },
  {
   "cell_type": "code",
   "execution_count": 30,
   "id": "b8bb78b2",
   "metadata": {},
   "outputs": [
    {
     "data": {
      "text/plain": [
       "2"
      ]
     },
     "execution_count": 30,
     "metadata": {},
     "output_type": "execute_result"
    }
   ],
   "source": [
    "a = 100\n",
    "b = 90\n",
    "c = 45\n",
    "\n",
    "p_a = a / (a + b + c)\n",
    "p_b = b / (a + b + c)\n",
    "p_c = c / (a + b + c)\n",
    "\n",
    "p_sa = 0.6\n",
    "p_sb = 0.7\n",
    "p_sc = 0.8\n",
    "\n",
    "p_s = p_sa * p_a + p_sb * p_b + p_sc * p_c\n",
    "\n",
    "p_as = p_sa * p_a / p_s\n",
    "p_bs = p_sb * p_b / p_s\n",
    "p_cs = p_sc * p_c / p_s\n",
    "\n",
    "y = [p_as, p_bs, p_cs]\n",
    "\n",
    "val = max(y)\n",
    "y.index(val) + 1"
   ]
  }
 ],
 "metadata": {
  "kernelspec": {
   "display_name": "Python 3 (ipykernel)",
   "language": "python",
   "name": "python3"
  },
  "language_info": {
   "codemirror_mode": {
    "name": "ipython",
    "version": 3
   },
   "file_extension": ".py",
   "mimetype": "text/x-python",
   "name": "python",
   "nbconvert_exporter": "python",
   "pygments_lexer": "ipython3",
   "version": "3.9.7"
  }
 },
 "nbformat": 4,
 "nbformat_minor": 5
}
